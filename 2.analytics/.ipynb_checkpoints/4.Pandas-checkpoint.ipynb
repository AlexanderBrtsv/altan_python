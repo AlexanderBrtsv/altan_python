{
 "cells": [
  {
   "cell_type": "markdown",
   "id": "88ee30cc",
   "metadata": {},
   "source": [
    "# Pandas"
   ]
  },
  {
   "cell_type": "code",
   "execution_count": 1,
   "id": "fcd18055",
   "metadata": {},
   "outputs": [],
   "source": [
    "import numpy as np\n",
    "import pandas as pd"
   ]
  },
  {
   "cell_type": "markdown",
   "id": "6398a63a",
   "metadata": {},
   "source": [
    "## Обьекты Pandas"
   ]
  },
  {
   "cell_type": "markdown",
   "id": "ad63506e",
   "metadata": {},
   "source": [
    "- Series"
   ]
  },
  {
   "cell_type": "code",
   "execution_count": 2,
   "id": "1829dc47",
   "metadata": {},
   "outputs": [
    {
     "data": {
      "text/plain": [
       "0    10\n",
       "1    20\n",
       "2    30\n",
       "3    40\n",
       "dtype: int64"
      ]
     },
     "execution_count": 2,
     "metadata": {},
     "output_type": "execute_result"
    }
   ],
   "source": [
    "# Series - 1-мерный массив индексированных данных\n",
    "data_1d = pd.Series([10, 20, 30, 40])\n",
    "data_1d"
   ]
  },
  {
   "cell_type": "code",
   "execution_count": null,
   "id": "9e4cf292",
   "metadata": {},
   "outputs": [],
   "source": []
  },
  {
   "cell_type": "markdown",
   "id": "790b60f4",
   "metadata": {},
   "source": [
    "- атрибуты"
   ]
  },
  {
   "cell_type": "code",
   "execution_count": 3,
   "id": "9834847b",
   "metadata": {},
   "outputs": [
    {
     "data": {
      "text/plain": [
       "array([10, 20, 30, 40], dtype=int64)"
      ]
     },
     "execution_count": 3,
     "metadata": {},
     "output_type": "execute_result"
    }
   ],
   "source": [
    "# значения\n",
    "data_1d.values"
   ]
  },
  {
   "cell_type": "code",
   "execution_count": 4,
   "id": "15288c2e",
   "metadata": {},
   "outputs": [
    {
     "data": {
      "text/plain": [
       "RangeIndex(start=0, stop=4, step=1)"
      ]
     },
     "execution_count": 4,
     "metadata": {},
     "output_type": "execute_result"
    }
   ],
   "source": [
    "# индексы\n",
    "data_1d.index"
   ]
  },
  {
   "cell_type": "code",
   "execution_count": 5,
   "id": "46ae6779",
   "metadata": {},
   "outputs": [
    {
     "name": "stdout",
     "output_type": "stream",
     "text": [
      "0\n",
      "1\n",
      "2\n",
      "3\n"
     ]
    }
   ],
   "source": [
    "for i in data_1d.index:\n",
    "    print(i)"
   ]
  },
  {
   "cell_type": "code",
   "execution_count": 6,
   "id": "bc55690c",
   "metadata": {},
   "outputs": [
    {
     "data": {
      "text/plain": [
       "array([0, 1, 2, 3], dtype=int64)"
      ]
     },
     "execution_count": 6,
     "metadata": {},
     "output_type": "execute_result"
    }
   ],
   "source": [
    "np.array(data_1d.index)"
   ]
  },
  {
   "cell_type": "code",
   "execution_count": 7,
   "id": "7e05b2c1",
   "metadata": {},
   "outputs": [
    {
     "data": {
      "text/plain": [
       "(4,)"
      ]
     },
     "execution_count": 7,
     "metadata": {},
     "output_type": "execute_result"
    }
   ],
   "source": [
    "# форма\n",
    "data_1d.shape"
   ]
  },
  {
   "cell_type": "code",
   "execution_count": 8,
   "id": "dfa6c21c",
   "metadata": {},
   "outputs": [
    {
     "data": {
      "text/plain": [
       "dtype('int64')"
      ]
     },
     "execution_count": 8,
     "metadata": {},
     "output_type": "execute_result"
    }
   ],
   "source": [
    "# тип данных\n",
    "data_1d.dtype"
   ]
  },
  {
   "cell_type": "code",
   "execution_count": null,
   "id": "2a3761b3",
   "metadata": {},
   "outputs": [],
   "source": []
  },
  {
   "cell_type": "markdown",
   "id": "37b412df",
   "metadata": {},
   "source": [
    "- чтение и запись данных"
   ]
  },
  {
   "cell_type": "code",
   "execution_count": 9,
   "id": "5b2dcebb",
   "metadata": {},
   "outputs": [
    {
     "data": {
      "text/plain": [
       "10"
      ]
     },
     "execution_count": 9,
     "metadata": {},
     "output_type": "execute_result"
    }
   ],
   "source": [
    "data_1d[0]"
   ]
  },
  {
   "cell_type": "code",
   "execution_count": 10,
   "id": "18b8b832",
   "metadata": {},
   "outputs": [
    {
     "data": {
      "text/plain": [
       "0     10\n",
       "1    100\n",
       "2     30\n",
       "3     40\n",
       "dtype: int64"
      ]
     },
     "execution_count": 10,
     "metadata": {},
     "output_type": "execute_result"
    }
   ],
   "source": [
    "data_1d[1] = 100\n",
    "data_1d"
   ]
  },
  {
   "cell_type": "code",
   "execution_count": 11,
   "id": "cf948b44",
   "metadata": {},
   "outputs": [
    {
     "data": {
      "text/plain": [
       "0    10\n",
       "2    30\n",
       "3    40\n",
       "dtype: int64"
      ]
     },
     "execution_count": 11,
     "metadata": {},
     "output_type": "execute_result"
    }
   ],
   "source": [
    "del data_1d[1]\n",
    "data_1d"
   ]
  },
  {
   "cell_type": "code",
   "execution_count": null,
   "id": "f8e93c86",
   "metadata": {},
   "outputs": [],
   "source": []
  },
  {
   "cell_type": "code",
   "execution_count": 15,
   "id": "623c063c",
   "metadata": {},
   "outputs": [
    {
     "data": {
      "text/plain": [
       "3    10\n",
       "2    20\n",
       "5    30\n",
       "0    40\n",
       "dtype: int64"
      ]
     },
     "execution_count": 15,
     "metadata": {},
     "output_type": "execute_result"
    }
   ],
   "source": [
    "# явные индексы\n",
    "data_2 = pd.Series([10,20,30,40], index=[3,2,5,0])\n",
    "data_2"
   ]
  },
  {
   "cell_type": "code",
   "execution_count": 16,
   "id": "5e4a55eb",
   "metadata": {},
   "outputs": [
    {
     "data": {
      "text/plain": [
       "10"
      ]
     },
     "execution_count": 16,
     "metadata": {},
     "output_type": "execute_result"
    }
   ],
   "source": [
    "data_2[3]"
   ]
  },
  {
   "cell_type": "code",
   "execution_count": 18,
   "id": "3012044d",
   "metadata": {},
   "outputs": [
    {
     "data": {
      "text/plain": [
       "10"
      ]
     },
     "execution_count": 18,
     "metadata": {},
     "output_type": "execute_result"
    }
   ],
   "source": [
    "# неявные индексы (numpy-индексы)\n",
    "data_2.iloc[0]"
   ]
  },
  {
   "cell_type": "code",
   "execution_count": null,
   "id": "747a1b76",
   "metadata": {},
   "outputs": [],
   "source": []
  }
 ],
 "metadata": {
  "kernelspec": {
   "display_name": "Python 3",
   "language": "python",
   "name": "python3"
  },
  "language_info": {
   "codemirror_mode": {
    "name": "ipython",
    "version": 3
   },
   "file_extension": ".py",
   "mimetype": "text/x-python",
   "name": "python",
   "nbconvert_exporter": "python",
   "pygments_lexer": "ipython3",
   "version": "3.8.8"
  }
 },
 "nbformat": 4,
 "nbformat_minor": 5
}

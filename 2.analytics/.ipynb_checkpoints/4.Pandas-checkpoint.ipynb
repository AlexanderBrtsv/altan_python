{
 "cells": [
  {
   "cell_type": "markdown",
   "id": "88ee30cc",
   "metadata": {},
   "source": [
    "# Pandas"
   ]
  },
  {
   "cell_type": "code",
   "execution_count": 2,
   "id": "fcd18055",
   "metadata": {},
   "outputs": [],
   "source": [
    "import numpy as np\n",
    "import pandas as pd"
   ]
  },
  {
   "cell_type": "markdown",
   "id": "6398a63a",
   "metadata": {},
   "source": [
    "## Обьекты Pandas"
   ]
  },
  {
   "cell_type": "markdown",
   "id": "ad63506e",
   "metadata": {},
   "source": [
    "- Series"
   ]
  },
  {
   "cell_type": "code",
   "execution_count": 2,
   "id": "1829dc47",
   "metadata": {},
   "outputs": [
    {
     "data": {
      "text/plain": [
       "0    10\n",
       "1    20\n",
       "2    30\n",
       "3    40\n",
       "dtype: int64"
      ]
     },
     "execution_count": 2,
     "metadata": {},
     "output_type": "execute_result"
    }
   ],
   "source": [
    "# Series - 1-мерный массив индексированных данных\n",
    "data_1d = pd.Series([10, 20, 30, 40])\n",
    "data_1d"
   ]
  },
  {
   "cell_type": "code",
   "execution_count": null,
   "id": "9e4cf292",
   "metadata": {},
   "outputs": [],
   "source": []
  },
  {
   "cell_type": "markdown",
   "id": "790b60f4",
   "metadata": {},
   "source": [
    "- атрибуты"
   ]
  },
  {
   "cell_type": "code",
   "execution_count": 3,
   "id": "9834847b",
   "metadata": {},
   "outputs": [
    {
     "data": {
      "text/plain": [
       "array([10, 20, 30, 40], dtype=int64)"
      ]
     },
     "execution_count": 3,
     "metadata": {},
     "output_type": "execute_result"
    }
   ],
   "source": [
    "# значения\n",
    "data_1d.values"
   ]
  },
  {
   "cell_type": "code",
   "execution_count": 4,
   "id": "15288c2e",
   "metadata": {},
   "outputs": [
    {
     "data": {
      "text/plain": [
       "RangeIndex(start=0, stop=4, step=1)"
      ]
     },
     "execution_count": 4,
     "metadata": {},
     "output_type": "execute_result"
    }
   ],
   "source": [
    "# индексы\n",
    "data_1d.index"
   ]
  },
  {
   "cell_type": "code",
   "execution_count": 5,
   "id": "46ae6779",
   "metadata": {},
   "outputs": [
    {
     "name": "stdout",
     "output_type": "stream",
     "text": [
      "0\n",
      "1\n",
      "2\n",
      "3\n"
     ]
    }
   ],
   "source": [
    "for i in data_1d.index:\n",
    "    print(i)"
   ]
  },
  {
   "cell_type": "code",
   "execution_count": 6,
   "id": "bc55690c",
   "metadata": {},
   "outputs": [
    {
     "data": {
      "text/plain": [
       "array([0, 1, 2, 3], dtype=int64)"
      ]
     },
     "execution_count": 6,
     "metadata": {},
     "output_type": "execute_result"
    }
   ],
   "source": [
    "np.array(data_1d.index)"
   ]
  },
  {
   "cell_type": "code",
   "execution_count": 7,
   "id": "7e05b2c1",
   "metadata": {},
   "outputs": [
    {
     "data": {
      "text/plain": [
       "(4,)"
      ]
     },
     "execution_count": 7,
     "metadata": {},
     "output_type": "execute_result"
    }
   ],
   "source": [
    "# форма\n",
    "data_1d.shape"
   ]
  },
  {
   "cell_type": "code",
   "execution_count": 8,
   "id": "dfa6c21c",
   "metadata": {},
   "outputs": [
    {
     "data": {
      "text/plain": [
       "dtype('int64')"
      ]
     },
     "execution_count": 8,
     "metadata": {},
     "output_type": "execute_result"
    }
   ],
   "source": [
    "# тип данных\n",
    "data_1d.dtype"
   ]
  },
  {
   "cell_type": "code",
   "execution_count": null,
   "id": "2a3761b3",
   "metadata": {},
   "outputs": [],
   "source": []
  },
  {
   "cell_type": "markdown",
   "id": "37b412df",
   "metadata": {},
   "source": [
    "- чтение и запись данных"
   ]
  },
  {
   "cell_type": "code",
   "execution_count": 9,
   "id": "5b2dcebb",
   "metadata": {},
   "outputs": [
    {
     "data": {
      "text/plain": [
       "10"
      ]
     },
     "execution_count": 9,
     "metadata": {},
     "output_type": "execute_result"
    }
   ],
   "source": [
    "data_1d[0]"
   ]
  },
  {
   "cell_type": "code",
   "execution_count": 10,
   "id": "18b8b832",
   "metadata": {},
   "outputs": [
    {
     "data": {
      "text/plain": [
       "0     10\n",
       "1    100\n",
       "2     30\n",
       "3     40\n",
       "dtype: int64"
      ]
     },
     "execution_count": 10,
     "metadata": {},
     "output_type": "execute_result"
    }
   ],
   "source": [
    "data_1d[1] = 100\n",
    "data_1d"
   ]
  },
  {
   "cell_type": "code",
   "execution_count": 11,
   "id": "cf948b44",
   "metadata": {},
   "outputs": [
    {
     "data": {
      "text/plain": [
       "0    10\n",
       "2    30\n",
       "3    40\n",
       "dtype: int64"
      ]
     },
     "execution_count": 11,
     "metadata": {},
     "output_type": "execute_result"
    }
   ],
   "source": [
    "del data_1d[1]\n",
    "data_1d"
   ]
  },
  {
   "cell_type": "code",
   "execution_count": null,
   "id": "f8e93c86",
   "metadata": {},
   "outputs": [],
   "source": []
  },
  {
   "cell_type": "code",
   "execution_count": 15,
   "id": "623c063c",
   "metadata": {},
   "outputs": [
    {
     "data": {
      "text/plain": [
       "3    10\n",
       "2    20\n",
       "5    30\n",
       "0    40\n",
       "dtype: int64"
      ]
     },
     "execution_count": 15,
     "metadata": {},
     "output_type": "execute_result"
    }
   ],
   "source": [
    "# явные индексы\n",
    "data_2 = pd.Series([10,20,30,40], index=[3,2,5,0])\n",
    "data_2"
   ]
  },
  {
   "cell_type": "code",
   "execution_count": 16,
   "id": "5e4a55eb",
   "metadata": {},
   "outputs": [
    {
     "data": {
      "text/plain": [
       "10"
      ]
     },
     "execution_count": 16,
     "metadata": {},
     "output_type": "execute_result"
    }
   ],
   "source": [
    "data_2[3]"
   ]
  },
  {
   "cell_type": "code",
   "execution_count": 18,
   "id": "3012044d",
   "metadata": {},
   "outputs": [
    {
     "data": {
      "text/plain": [
       "10"
      ]
     },
     "execution_count": 18,
     "metadata": {},
     "output_type": "execute_result"
    }
   ],
   "source": [
    "# неявные индексы (numpy-индексы)\n",
    "data_2.iloc[0]"
   ]
  },
  {
   "cell_type": "code",
   "execution_count": 7,
   "id": "747a1b76",
   "metadata": {},
   "outputs": [
    {
     "data": {
      "text/plain": [
       "200"
      ]
     },
     "execution_count": 7,
     "metadata": {},
     "output_type": "execute_result"
    }
   ],
   "source": [
    "# создание Series из словаря\n",
    "d = {'a':100, 'b':200, 'c':300}\n",
    "s = pd.Series(d)\n",
    "s['b']"
   ]
  },
  {
   "cell_type": "code",
   "execution_count": 8,
   "id": "0a3fd4ed",
   "metadata": {},
   "outputs": [
    {
     "data": {
      "text/plain": [
       "{'Yakutsk': 318768, 'Neryungri': 57009, 'Viluysk': 11095}"
      ]
     },
     "execution_count": 8,
     "metadata": {},
     "output_type": "execute_result"
    }
   ],
   "source": [
    "pop_dict = {\n",
    "    \"Yakutsk\": 318768,\n",
    "    \"Neryungri\": 57009,\n",
    "    \"Viluysk\": 11095\n",
    "}\n",
    "pop_dict"
   ]
  },
  {
   "cell_type": "code",
   "execution_count": 9,
   "id": "66b6fdd7",
   "metadata": {},
   "outputs": [
    {
     "data": {
      "text/plain": [
       "Yakutsk      318768\n",
       "Neryungri     57009\n",
       "Viluysk       11095\n",
       "dtype: int64"
      ]
     },
     "execution_count": 9,
     "metadata": {},
     "output_type": "execute_result"
    }
   ],
   "source": [
    "pop_data = pd.Series(pop_dict)\n",
    "pop_data"
   ]
  },
  {
   "cell_type": "code",
   "execution_count": 10,
   "id": "23bc5873",
   "metadata": {},
   "outputs": [
    {
     "data": {
      "text/plain": [
       "318768"
      ]
     },
     "execution_count": 10,
     "metadata": {},
     "output_type": "execute_result"
    }
   ],
   "source": [
    "pop_data[\"Yakutsk\"]"
   ]
  },
  {
   "cell_type": "code",
   "execution_count": 11,
   "id": "7a70305e",
   "metadata": {},
   "outputs": [],
   "source": [
    "pop_data[\"Yakutsk\"] = 319000"
   ]
  },
  {
   "cell_type": "code",
   "execution_count": 12,
   "id": "2d107bc3",
   "metadata": {},
   "outputs": [
    {
     "data": {
      "text/plain": [
       "Yakutsk      319000\n",
       "Neryungri     57009\n",
       "Viluysk       11095\n",
       "dtype: int64"
      ]
     },
     "execution_count": 12,
     "metadata": {},
     "output_type": "execute_result"
    }
   ],
   "source": [
    "pop_data"
   ]
  },
  {
   "cell_type": "code",
   "execution_count": 13,
   "id": "f51362b5",
   "metadata": {},
   "outputs": [
    {
     "data": {
      "text/plain": [
       "Neryungri    57009\n",
       "Viluysk      11095\n",
       "dtype: int64"
      ]
     },
     "execution_count": 13,
     "metadata": {},
     "output_type": "execute_result"
    }
   ],
   "source": [
    "pop_data[\"Neryungri\": ]"
   ]
  },
  {
   "cell_type": "code",
   "execution_count": 14,
   "id": "8f84c6dc",
   "metadata": {},
   "outputs": [
    {
     "data": {
      "text/plain": [
       "Yakutsk      319000\n",
       "Neryungri     57009\n",
       "dtype: int64"
      ]
     },
     "execution_count": 14,
     "metadata": {},
     "output_type": "execute_result"
    }
   ],
   "source": [
    "# конечный индекс диапозона среза ВКЛЮЧАЕТСЯ в срез\n",
    "pop_data[:\"Neryungri\"]"
   ]
  },
  {
   "cell_type": "code",
   "execution_count": 15,
   "id": "9267bf78",
   "metadata": {},
   "outputs": [],
   "source": [
    "# добавление новой строки с использованием словарного синтаксиса\n",
    "pop_data[\"Tiksi\"] = 4000"
   ]
  },
  {
   "cell_type": "code",
   "execution_count": 16,
   "id": "0f74d00b",
   "metadata": {},
   "outputs": [
    {
     "data": {
      "text/plain": [
       "Yakutsk      319000\n",
       "Neryungri     57009\n",
       "Viluysk       11095\n",
       "Tiksi          4000\n",
       "dtype: int64"
      ]
     },
     "execution_count": 16,
     "metadata": {},
     "output_type": "execute_result"
    }
   ],
   "source": [
    "pop_data"
   ]
  },
  {
   "cell_type": "code",
   "execution_count": null,
   "id": "8bd033ab",
   "metadata": {},
   "outputs": [],
   "source": []
  },
  {
   "cell_type": "markdown",
   "id": "a11271c6",
   "metadata": {},
   "source": [
    "* DataFrame"
   ]
  },
  {
   "cell_type": "code",
   "execution_count": 17,
   "id": "e01f0faa",
   "metadata": {},
   "outputs": [
    {
     "data": {
      "text/plain": [
       "{'col_1': {'a': 100, 'b': 200}, 'col_2': {'b': 2000, 'c': 30000}}"
      ]
     },
     "execution_count": 17,
     "metadata": {},
     "output_type": "execute_result"
    }
   ],
   "source": [
    "# DataFrame - многомерный массив (таблица)\n",
    "# создание на базе словаря\n",
    "data_dict = {\n",
    "    \"col_1\":{'a':100, 'b':200},\n",
    "    \"col_2\":{'b':2000, 'c':30000}\n",
    "}\n",
    "data_dict"
   ]
  },
  {
   "cell_type": "code",
   "execution_count": 18,
   "id": "193f36ac",
   "metadata": {},
   "outputs": [
    {
     "data": {
      "text/html": [
       "<div>\n",
       "<style scoped>\n",
       "    .dataframe tbody tr th:only-of-type {\n",
       "        vertical-align: middle;\n",
       "    }\n",
       "\n",
       "    .dataframe tbody tr th {\n",
       "        vertical-align: top;\n",
       "    }\n",
       "\n",
       "    .dataframe thead th {\n",
       "        text-align: right;\n",
       "    }\n",
       "</style>\n",
       "<table border=\"1\" class=\"dataframe\">\n",
       "  <thead>\n",
       "    <tr style=\"text-align: right;\">\n",
       "      <th></th>\n",
       "      <th>col_1</th>\n",
       "      <th>col_2</th>\n",
       "    </tr>\n",
       "  </thead>\n",
       "  <tbody>\n",
       "    <tr>\n",
       "      <th>a</th>\n",
       "      <td>100.0</td>\n",
       "      <td>NaN</td>\n",
       "    </tr>\n",
       "    <tr>\n",
       "      <th>b</th>\n",
       "      <td>200.0</td>\n",
       "      <td>2000.0</td>\n",
       "    </tr>\n",
       "    <tr>\n",
       "      <th>c</th>\n",
       "      <td>NaN</td>\n",
       "      <td>30000.0</td>\n",
       "    </tr>\n",
       "  </tbody>\n",
       "</table>\n",
       "</div>"
      ],
      "text/plain": [
       "   col_1    col_2\n",
       "a  100.0      NaN\n",
       "b  200.0   2000.0\n",
       "c    NaN  30000.0"
      ]
     },
     "execution_count": 18,
     "metadata": {},
     "output_type": "execute_result"
    }
   ],
   "source": [
    "pd.DataFrame(data_dict)"
   ]
  },
  {
   "cell_type": "code",
   "execution_count": 19,
   "id": "3dd3d1a0",
   "metadata": {},
   "outputs": [],
   "source": [
    "# NaN - not a number (аналог None)"
   ]
  },
  {
   "cell_type": "code",
   "execution_count": 20,
   "id": "afaca8b1",
   "metadata": {},
   "outputs": [
    {
     "data": {
      "text/plain": [
       "Yakutsk      319000\n",
       "Neryungri     57009\n",
       "Viluysk       11095\n",
       "Tiksi          4000\n",
       "dtype: int64"
      ]
     },
     "execution_count": 20,
     "metadata": {},
     "output_type": "execute_result"
    }
   ],
   "source": [
    "pop_data"
   ]
  },
  {
   "cell_type": "code",
   "execution_count": 21,
   "id": "9705dea2",
   "metadata": {},
   "outputs": [
    {
     "data": {
      "text/plain": [
       "Yakutsk    122.0\n",
       "Viluysk     15.0\n",
       "Tiksi       98.9\n",
       "dtype: float64"
      ]
     },
     "execution_count": 21,
     "metadata": {},
     "output_type": "execute_result"
    }
   ],
   "source": [
    "# новые данные \n",
    "area_data = pd.Series({\n",
    "    \"Yakutsk\": 122,\n",
    "    \"Viluysk\": 15,\n",
    "    \"Tiksi\": 98.9\n",
    "})\n",
    "area_data"
   ]
  },
  {
   "cell_type": "code",
   "execution_count": 22,
   "id": "1b90d9f8",
   "metadata": {},
   "outputs": [
    {
     "data": {
      "text/html": [
       "<div>\n",
       "<style scoped>\n",
       "    .dataframe tbody tr th:only-of-type {\n",
       "        vertical-align: middle;\n",
       "    }\n",
       "\n",
       "    .dataframe tbody tr th {\n",
       "        vertical-align: top;\n",
       "    }\n",
       "\n",
       "    .dataframe thead th {\n",
       "        text-align: right;\n",
       "    }\n",
       "</style>\n",
       "<table border=\"1\" class=\"dataframe\">\n",
       "  <thead>\n",
       "    <tr style=\"text-align: right;\">\n",
       "      <th></th>\n",
       "      <th>население</th>\n",
       "      <th>площадь</th>\n",
       "    </tr>\n",
       "  </thead>\n",
       "  <tbody>\n",
       "    <tr>\n",
       "      <th>Neryungri</th>\n",
       "      <td>57009</td>\n",
       "      <td>NaN</td>\n",
       "    </tr>\n",
       "    <tr>\n",
       "      <th>Tiksi</th>\n",
       "      <td>4000</td>\n",
       "      <td>98.9</td>\n",
       "    </tr>\n",
       "    <tr>\n",
       "      <th>Viluysk</th>\n",
       "      <td>11095</td>\n",
       "      <td>15.0</td>\n",
       "    </tr>\n",
       "    <tr>\n",
       "      <th>Yakutsk</th>\n",
       "      <td>319000</td>\n",
       "      <td>122.0</td>\n",
       "    </tr>\n",
       "  </tbody>\n",
       "</table>\n",
       "</div>"
      ],
      "text/plain": [
       "           население  площадь\n",
       "Neryungri      57009      NaN\n",
       "Tiksi           4000     98.9\n",
       "Viluysk        11095     15.0\n",
       "Yakutsk       319000    122.0"
      ]
     },
     "execution_count": 22,
     "metadata": {},
     "output_type": "execute_result"
    }
   ],
   "source": [
    "cities_data = pd.DataFrame({\n",
    "    \"население\": pop_data, \n",
    "    \"площадь\": area_data\n",
    "})\n",
    "cities_data"
   ]
  },
  {
   "cell_type": "code",
   "execution_count": 23,
   "id": "9363ed22",
   "metadata": {},
   "outputs": [
    {
     "data": {
      "text/plain": [
       "Index(['Neryungri', 'Tiksi', 'Viluysk', 'Yakutsk'], dtype='object')"
      ]
     },
     "execution_count": 23,
     "metadata": {},
     "output_type": "execute_result"
    }
   ],
   "source": [
    "# индексы строк\n",
    "cities_data.index"
   ]
  },
  {
   "cell_type": "code",
   "execution_count": 24,
   "id": "dbf811a5",
   "metadata": {},
   "outputs": [
    {
     "data": {
      "text/plain": [
       "Index(['население', 'площадь'], dtype='object')"
      ]
     },
     "execution_count": 24,
     "metadata": {},
     "output_type": "execute_result"
    }
   ],
   "source": [
    "# индексы столбцов\n",
    "cities_data.columns"
   ]
  },
  {
   "cell_type": "code",
   "execution_count": 25,
   "id": "101cf49b",
   "metadata": {},
   "outputs": [
    {
     "data": {
      "text/plain": [
       "Neryungri     57009\n",
       "Tiksi          4000\n",
       "Viluysk       11095\n",
       "Yakutsk      319000\n",
       "Name: население, dtype: int64"
      ]
     },
     "execution_count": 25,
     "metadata": {},
     "output_type": "execute_result"
    }
   ],
   "source": [
    "# DataFrame можно рассматривать как специализированный словарь,\n",
    "# содержащий Series-объекта.\n",
    "cities_data['население']"
   ]
  },
  {
   "cell_type": "code",
   "execution_count": 27,
   "id": "480329ed",
   "metadata": {},
   "outputs": [
    {
     "data": {
      "text/plain": [
       "Neryungri      NaN\n",
       "Tiksi         98.9\n",
       "Viluysk       15.0\n",
       "Yakutsk      122.0\n",
       "Name: площадь, dtype: float64"
      ]
     },
     "execution_count": 27,
     "metadata": {},
     "output_type": "execute_result"
    }
   ],
   "source": [
    "cities_data[\"площадь\"]"
   ]
  },
  {
   "cell_type": "code",
   "execution_count": 34,
   "id": "d5040728",
   "metadata": {},
   "outputs": [
    {
     "data": {
      "text/plain": [
       "4000"
      ]
     },
     "execution_count": 34,
     "metadata": {},
     "output_type": "execute_result"
    }
   ],
   "source": [
    "# обращение к одному значению\n",
    "cities_data['население']['Tiksi']"
   ]
  },
  {
   "cell_type": "code",
   "execution_count": 28,
   "id": "b0dfc3ed",
   "metadata": {},
   "outputs": [
    {
     "data": {
      "text/plain": [
       "население    4000.0\n",
       "площадь        98.9\n",
       "Name: Tiksi, dtype: float64"
      ]
     },
     "execution_count": 28,
     "metadata": {},
     "output_type": "execute_result"
    }
   ],
   "source": [
    "# чтение строки\n",
    "# [индексация строк, индексация столбцов]\n",
    "# loc - атрибут-индексатор для работы с явными индексами\n",
    "cities_data.loc['Tiksi', :]"
   ]
  },
  {
   "cell_type": "code",
   "execution_count": 36,
   "id": "e8fff374",
   "metadata": {},
   "outputs": [
    {
     "data": {
      "text/html": [
       "<div>\n",
       "<style scoped>\n",
       "    .dataframe tbody tr th:only-of-type {\n",
       "        vertical-align: middle;\n",
       "    }\n",
       "\n",
       "    .dataframe tbody tr th {\n",
       "        vertical-align: top;\n",
       "    }\n",
       "\n",
       "    .dataframe thead th {\n",
       "        text-align: right;\n",
       "    }\n",
       "</style>\n",
       "<table border=\"1\" class=\"dataframe\">\n",
       "  <thead>\n",
       "    <tr style=\"text-align: right;\">\n",
       "      <th></th>\n",
       "      <th>население</th>\n",
       "      <th>площадь</th>\n",
       "    </tr>\n",
       "  </thead>\n",
       "  <tbody>\n",
       "    <tr>\n",
       "      <th>Tiksi</th>\n",
       "      <td>4000</td>\n",
       "      <td>98.9</td>\n",
       "    </tr>\n",
       "    <tr>\n",
       "      <th>Yakutsk</th>\n",
       "      <td>319000</td>\n",
       "      <td>122.0</td>\n",
       "    </tr>\n",
       "  </tbody>\n",
       "</table>\n",
       "</div>"
      ],
      "text/plain": [
       "         население  площадь\n",
       "Tiksi         4000     98.9\n",
       "Yakutsk     319000    122.0"
      ]
     },
     "execution_count": 36,
     "metadata": {},
     "output_type": "execute_result"
    }
   ],
   "source": [
    "# можно использовать прихотливую индексацию\n",
    "cities_data.loc[['Tiksi', 'Yakutsk'], :]"
   ]
  },
  {
   "cell_type": "code",
   "execution_count": 37,
   "id": "abd39328",
   "metadata": {},
   "outputs": [
    {
     "data": {
      "text/plain": [
       "Tiksi       98.9\n",
       "Yakutsk    122.0\n",
       "Name: площадь, dtype: float64"
      ]
     },
     "execution_count": 37,
     "metadata": {},
     "output_type": "execute_result"
    }
   ],
   "source": [
    "cities_data.loc[['Tiksi', 'Yakutsk'], 'площадь']"
   ]
  },
  {
   "cell_type": "code",
   "execution_count": 39,
   "id": "08b2660f",
   "metadata": {},
   "outputs": [
    {
     "data": {
      "text/plain": [
       "Neryungri    57009\n",
       "Viluysk      11095\n",
       "Name: население, dtype: int64"
      ]
     },
     "execution_count": 39,
     "metadata": {},
     "output_type": "execute_result"
    }
   ],
   "source": [
    "cities_data.iloc[[0, 2], 0]"
   ]
  },
  {
   "cell_type": "code",
   "execution_count": 41,
   "id": "fda3f4d3",
   "metadata": {},
   "outputs": [
    {
     "data": {
      "text/plain": [
       "Neryungri    False\n",
       "Tiksi         True\n",
       "Viluysk      False\n",
       "Yakutsk       True\n",
       "Name: площадь, dtype: bool"
      ]
     },
     "execution_count": 41,
     "metadata": {},
     "output_type": "execute_result"
    }
   ],
   "source": [
    "# маскирование\n",
    "cities_data['площадь'] > 20"
   ]
  },
  {
   "cell_type": "code",
   "execution_count": 43,
   "id": "9f63e58e",
   "metadata": {},
   "outputs": [
    {
     "data": {
      "text/html": [
       "<div>\n",
       "<style scoped>\n",
       "    .dataframe tbody tr th:only-of-type {\n",
       "        vertical-align: middle;\n",
       "    }\n",
       "\n",
       "    .dataframe tbody tr th {\n",
       "        vertical-align: top;\n",
       "    }\n",
       "\n",
       "    .dataframe thead th {\n",
       "        text-align: right;\n",
       "    }\n",
       "</style>\n",
       "<table border=\"1\" class=\"dataframe\">\n",
       "  <thead>\n",
       "    <tr style=\"text-align: right;\">\n",
       "      <th></th>\n",
       "      <th>население</th>\n",
       "      <th>площадь</th>\n",
       "    </tr>\n",
       "  </thead>\n",
       "  <tbody>\n",
       "    <tr>\n",
       "      <th>Tiksi</th>\n",
       "      <td>4000</td>\n",
       "      <td>98.9</td>\n",
       "    </tr>\n",
       "    <tr>\n",
       "      <th>Yakutsk</th>\n",
       "      <td>319000</td>\n",
       "      <td>122.0</td>\n",
       "    </tr>\n",
       "  </tbody>\n",
       "</table>\n",
       "</div>"
      ],
      "text/plain": [
       "         население  площадь\n",
       "Tiksi         4000     98.9\n",
       "Yakutsk     319000    122.0"
      ]
     },
     "execution_count": 43,
     "metadata": {},
     "output_type": "execute_result"
    }
   ],
   "source": [
    "# маскирование для строк\n",
    "mask = cities_data['площадь'] > 20\n",
    "cities_data.loc[mask, :]"
   ]
  },
  {
   "cell_type": "code",
   "execution_count": 44,
   "id": "557c84ca",
   "metadata": {},
   "outputs": [],
   "source": [
    "# добавление нового столбца\n",
    "cities_data['плотность'] = cities_data['население'] / cities_data['площадь']"
   ]
  },
  {
   "cell_type": "code",
   "execution_count": 45,
   "id": "abb5fefc",
   "metadata": {},
   "outputs": [
    {
     "data": {
      "text/html": [
       "<div>\n",
       "<style scoped>\n",
       "    .dataframe tbody tr th:only-of-type {\n",
       "        vertical-align: middle;\n",
       "    }\n",
       "\n",
       "    .dataframe tbody tr th {\n",
       "        vertical-align: top;\n",
       "    }\n",
       "\n",
       "    .dataframe thead th {\n",
       "        text-align: right;\n",
       "    }\n",
       "</style>\n",
       "<table border=\"1\" class=\"dataframe\">\n",
       "  <thead>\n",
       "    <tr style=\"text-align: right;\">\n",
       "      <th></th>\n",
       "      <th>население</th>\n",
       "      <th>площадь</th>\n",
       "      <th>плотность</th>\n",
       "    </tr>\n",
       "  </thead>\n",
       "  <tbody>\n",
       "    <tr>\n",
       "      <th>Neryungri</th>\n",
       "      <td>57009</td>\n",
       "      <td>NaN</td>\n",
       "      <td>NaN</td>\n",
       "    </tr>\n",
       "    <tr>\n",
       "      <th>Tiksi</th>\n",
       "      <td>4000</td>\n",
       "      <td>98.9</td>\n",
       "      <td>40.444894</td>\n",
       "    </tr>\n",
       "    <tr>\n",
       "      <th>Viluysk</th>\n",
       "      <td>11095</td>\n",
       "      <td>15.0</td>\n",
       "      <td>739.666667</td>\n",
       "    </tr>\n",
       "    <tr>\n",
       "      <th>Yakutsk</th>\n",
       "      <td>319000</td>\n",
       "      <td>122.0</td>\n",
       "      <td>2614.754098</td>\n",
       "    </tr>\n",
       "  </tbody>\n",
       "</table>\n",
       "</div>"
      ],
      "text/plain": [
       "           население  площадь    плотность\n",
       "Neryungri      57009      NaN          NaN\n",
       "Tiksi           4000     98.9    40.444894\n",
       "Viluysk        11095     15.0   739.666667\n",
       "Yakutsk       319000    122.0  2614.754098"
      ]
     },
     "execution_count": 45,
     "metadata": {},
     "output_type": "execute_result"
    }
   ],
   "source": [
    "cities_data"
   ]
  },
  {
   "cell_type": "code",
   "execution_count": 46,
   "id": "a43e77a1",
   "metadata": {},
   "outputs": [
    {
     "data": {
      "text/html": [
       "<div>\n",
       "<style scoped>\n",
       "    .dataframe tbody tr th:only-of-type {\n",
       "        vertical-align: middle;\n",
       "    }\n",
       "\n",
       "    .dataframe tbody tr th {\n",
       "        vertical-align: top;\n",
       "    }\n",
       "\n",
       "    .dataframe thead th {\n",
       "        text-align: right;\n",
       "    }\n",
       "</style>\n",
       "<table border=\"1\" class=\"dataframe\">\n",
       "  <thead>\n",
       "    <tr style=\"text-align: right;\">\n",
       "      <th></th>\n",
       "      <th>площадь</th>\n",
       "      <th>плотность</th>\n",
       "    </tr>\n",
       "  </thead>\n",
       "  <tbody>\n",
       "    <tr>\n",
       "      <th>Tiksi</th>\n",
       "      <td>98.9</td>\n",
       "      <td>40.444894</td>\n",
       "    </tr>\n",
       "    <tr>\n",
       "      <th>Viluysk</th>\n",
       "      <td>15.0</td>\n",
       "      <td>739.666667</td>\n",
       "    </tr>\n",
       "    <tr>\n",
       "      <th>Yakutsk</th>\n",
       "      <td>122.0</td>\n",
       "      <td>2614.754098</td>\n",
       "    </tr>\n",
       "  </tbody>\n",
       "</table>\n",
       "</div>"
      ],
      "text/plain": [
       "         площадь    плотность\n",
       "Tiksi       98.9    40.444894\n",
       "Viluysk     15.0   739.666667\n",
       "Yakutsk    122.0  2614.754098"
      ]
     },
     "execution_count": 46,
     "metadata": {},
     "output_type": "execute_result"
    }
   ],
   "source": [
    "cities_data.loc['Tiksi':, 'площадь':]"
   ]
  },
  {
   "cell_type": "code",
   "execution_count": 49,
   "id": "2ef2bb18",
   "metadata": {},
   "outputs": [
    {
     "data": {
      "text/html": [
       "<div>\n",
       "<style scoped>\n",
       "    .dataframe tbody tr th:only-of-type {\n",
       "        vertical-align: middle;\n",
       "    }\n",
       "\n",
       "    .dataframe tbody tr th {\n",
       "        vertical-align: top;\n",
       "    }\n",
       "\n",
       "    .dataframe thead th {\n",
       "        text-align: right;\n",
       "    }\n",
       "</style>\n",
       "<table border=\"1\" class=\"dataframe\">\n",
       "  <thead>\n",
       "    <tr style=\"text-align: right;\">\n",
       "      <th></th>\n",
       "      <th>площадь</th>\n",
       "      <th>население</th>\n",
       "    </tr>\n",
       "  </thead>\n",
       "  <tbody>\n",
       "    <tr>\n",
       "      <th>Tiksi</th>\n",
       "      <td>98.9</td>\n",
       "      <td>4000</td>\n",
       "    </tr>\n",
       "    <tr>\n",
       "      <th>Viluysk</th>\n",
       "      <td>15.0</td>\n",
       "      <td>11095</td>\n",
       "    </tr>\n",
       "    <tr>\n",
       "      <th>Yakutsk</th>\n",
       "      <td>122.0</td>\n",
       "      <td>319000</td>\n",
       "    </tr>\n",
       "  </tbody>\n",
       "</table>\n",
       "</div>"
      ],
      "text/plain": [
       "         площадь  население\n",
       "Tiksi       98.9       4000\n",
       "Viluysk     15.0      11095\n",
       "Yakutsk    122.0     319000"
      ]
     },
     "execution_count": 49,
     "metadata": {},
     "output_type": "execute_result"
    }
   ],
   "source": [
    "cities_data.loc['Tiksi':, ['площадь', 'население']]"
   ]
  },
  {
   "cell_type": "code",
   "execution_count": 50,
   "id": "13e7bc35",
   "metadata": {},
   "outputs": [
    {
     "data": {
      "text/html": [
       "<div>\n",
       "<style scoped>\n",
       "    .dataframe tbody tr th:only-of-type {\n",
       "        vertical-align: middle;\n",
       "    }\n",
       "\n",
       "    .dataframe tbody tr th {\n",
       "        vertical-align: top;\n",
       "    }\n",
       "\n",
       "    .dataframe thead th {\n",
       "        text-align: right;\n",
       "    }\n",
       "</style>\n",
       "<table border=\"1\" class=\"dataframe\">\n",
       "  <thead>\n",
       "    <tr style=\"text-align: right;\">\n",
       "      <th></th>\n",
       "      <th>площадь</th>\n",
       "      <th>население</th>\n",
       "    </tr>\n",
       "  </thead>\n",
       "  <tbody>\n",
       "    <tr>\n",
       "      <th>Tiksi</th>\n",
       "      <td>98.9</td>\n",
       "      <td>4000</td>\n",
       "    </tr>\n",
       "    <tr>\n",
       "      <th>Viluysk</th>\n",
       "      <td>15.0</td>\n",
       "      <td>11095</td>\n",
       "    </tr>\n",
       "  </tbody>\n",
       "</table>\n",
       "</div>"
      ],
      "text/plain": [
       "         площадь  население\n",
       "Tiksi       98.9       4000\n",
       "Viluysk     15.0      11095"
      ]
     },
     "execution_count": 50,
     "metadata": {},
     "output_type": "execute_result"
    }
   ],
   "source": [
    "cities_data.loc[cities_data['плотность'] < 1000, ['площадь', 'население']]"
   ]
  },
  {
   "cell_type": "code",
   "execution_count": null,
   "id": "fe7c02ca",
   "metadata": {},
   "outputs": [],
   "source": []
  },
  {
   "cell_type": "markdown",
   "id": "bbf0536e",
   "metadata": {},
   "source": [
    "* обработка отсутсвующих данных"
   ]
  },
  {
   "cell_type": "code",
   "execution_count": 52,
   "id": "5e79bb55",
   "metadata": {},
   "outputs": [
    {
     "data": {
      "text/plain": [
       "391104"
      ]
     },
     "execution_count": 52,
     "metadata": {},
     "output_type": "execute_result"
    }
   ],
   "source": [
    "np.sum(cities_data['население'])"
   ]
  },
  {
   "cell_type": "code",
   "execution_count": 53,
   "id": "e5574e15",
   "metadata": {},
   "outputs": [
    {
     "data": {
      "text/plain": [
       "78.63333333333334"
      ]
     },
     "execution_count": 53,
     "metadata": {},
     "output_type": "execute_result"
    }
   ],
   "source": [
    "np.mean(cities_data['площадь'])"
   ]
  },
  {
   "cell_type": "code",
   "execution_count": 54,
   "id": "ee3efa89",
   "metadata": {},
   "outputs": [
    {
     "data": {
      "text/plain": [
       "78.63333333333334"
      ]
     },
     "execution_count": 54,
     "metadata": {},
     "output_type": "execute_result"
    }
   ],
   "source": [
    "# удаление строки с отсутсвующим значением \n",
    "np.mean(cities_data.dropna()['площадь'])"
   ]
  },
  {
   "cell_type": "code",
   "execution_count": 55,
   "id": "065c3f8e",
   "metadata": {},
   "outputs": [
    {
     "data": {
      "text/html": [
       "<div>\n",
       "<style scoped>\n",
       "    .dataframe tbody tr th:only-of-type {\n",
       "        vertical-align: middle;\n",
       "    }\n",
       "\n",
       "    .dataframe tbody tr th {\n",
       "        vertical-align: top;\n",
       "    }\n",
       "\n",
       "    .dataframe thead th {\n",
       "        text-align: right;\n",
       "    }\n",
       "</style>\n",
       "<table border=\"1\" class=\"dataframe\">\n",
       "  <thead>\n",
       "    <tr style=\"text-align: right;\">\n",
       "      <th></th>\n",
       "      <th>население</th>\n",
       "      <th>площадь</th>\n",
       "      <th>плотность</th>\n",
       "    </tr>\n",
       "  </thead>\n",
       "  <tbody>\n",
       "    <tr>\n",
       "      <th>Tiksi</th>\n",
       "      <td>4000</td>\n",
       "      <td>98.9</td>\n",
       "      <td>40.444894</td>\n",
       "    </tr>\n",
       "    <tr>\n",
       "      <th>Viluysk</th>\n",
       "      <td>11095</td>\n",
       "      <td>15.0</td>\n",
       "      <td>739.666667</td>\n",
       "    </tr>\n",
       "    <tr>\n",
       "      <th>Yakutsk</th>\n",
       "      <td>319000</td>\n",
       "      <td>122.0</td>\n",
       "      <td>2614.754098</td>\n",
       "    </tr>\n",
       "  </tbody>\n",
       "</table>\n",
       "</div>"
      ],
      "text/plain": [
       "         население  площадь    плотность\n",
       "Tiksi         4000     98.9    40.444894\n",
       "Viluysk      11095     15.0   739.666667\n",
       "Yakutsk     319000    122.0  2614.754098"
      ]
     },
     "execution_count": 55,
     "metadata": {},
     "output_type": "execute_result"
    }
   ],
   "source": [
    "cities_data.dropna()"
   ]
  },
  {
   "cell_type": "code",
   "execution_count": 56,
   "id": "b5fa86c5",
   "metadata": {},
   "outputs": [
    {
     "data": {
      "text/html": [
       "<div>\n",
       "<style scoped>\n",
       "    .dataframe tbody tr th:only-of-type {\n",
       "        vertical-align: middle;\n",
       "    }\n",
       "\n",
       "    .dataframe tbody tr th {\n",
       "        vertical-align: top;\n",
       "    }\n",
       "\n",
       "    .dataframe thead th {\n",
       "        text-align: right;\n",
       "    }\n",
       "</style>\n",
       "<table border=\"1\" class=\"dataframe\">\n",
       "  <thead>\n",
       "    <tr style=\"text-align: right;\">\n",
       "      <th></th>\n",
       "      <th>население</th>\n",
       "    </tr>\n",
       "  </thead>\n",
       "  <tbody>\n",
       "    <tr>\n",
       "      <th>Neryungri</th>\n",
       "      <td>57009</td>\n",
       "    </tr>\n",
       "    <tr>\n",
       "      <th>Tiksi</th>\n",
       "      <td>4000</td>\n",
       "    </tr>\n",
       "    <tr>\n",
       "      <th>Viluysk</th>\n",
       "      <td>11095</td>\n",
       "    </tr>\n",
       "    <tr>\n",
       "      <th>Yakutsk</th>\n",
       "      <td>319000</td>\n",
       "    </tr>\n",
       "  </tbody>\n",
       "</table>\n",
       "</div>"
      ],
      "text/plain": [
       "           население\n",
       "Neryungri      57009\n",
       "Tiksi           4000\n",
       "Viluysk        11095\n",
       "Yakutsk       319000"
      ]
     },
     "execution_count": 56,
     "metadata": {},
     "output_type": "execute_result"
    }
   ],
   "source": [
    "# удаление столбцов с отсутсвующими значениями\n",
    "# (axis=1)=(axis='columns')\n",
    "cities_data.dropna(axis=\"columns\")"
   ]
  },
  {
   "cell_type": "code",
   "execution_count": 58,
   "id": "713511f6",
   "metadata": {},
   "outputs": [
    {
     "data": {
      "text/html": [
       "<div>\n",
       "<style scoped>\n",
       "    .dataframe tbody tr th:only-of-type {\n",
       "        vertical-align: middle;\n",
       "    }\n",
       "\n",
       "    .dataframe tbody tr th {\n",
       "        vertical-align: top;\n",
       "    }\n",
       "\n",
       "    .dataframe thead th {\n",
       "        text-align: right;\n",
       "    }\n",
       "</style>\n",
       "<table border=\"1\" class=\"dataframe\">\n",
       "  <thead>\n",
       "    <tr style=\"text-align: right;\">\n",
       "      <th></th>\n",
       "      <th>население</th>\n",
       "      <th>площадь</th>\n",
       "      <th>плотность</th>\n",
       "    </tr>\n",
       "  </thead>\n",
       "  <tbody>\n",
       "    <tr>\n",
       "      <th>Tiksi</th>\n",
       "      <td>4000</td>\n",
       "      <td>98.9</td>\n",
       "      <td>40.444894</td>\n",
       "    </tr>\n",
       "    <tr>\n",
       "      <th>Viluysk</th>\n",
       "      <td>11095</td>\n",
       "      <td>15.0</td>\n",
       "      <td>739.666667</td>\n",
       "    </tr>\n",
       "    <tr>\n",
       "      <th>Yakutsk</th>\n",
       "      <td>319000</td>\n",
       "      <td>122.0</td>\n",
       "      <td>2614.754098</td>\n",
       "    </tr>\n",
       "  </tbody>\n",
       "</table>\n",
       "</div>"
      ],
      "text/plain": [
       "         население  площадь    плотность\n",
       "Tiksi         4000     98.9    40.444894\n",
       "Viluysk      11095     15.0   739.666667\n",
       "Yakutsk     319000    122.0  2614.754098"
      ]
     },
     "execution_count": 58,
     "metadata": {},
     "output_type": "execute_result"
    }
   ],
   "source": [
    "# (axis=0)=(axis='rows')\n",
    "cities_data.dropna(axis='rows')"
   ]
  },
  {
   "cell_type": "code",
   "execution_count": null,
   "id": "f17aeefd",
   "metadata": {},
   "outputs": [],
   "source": []
  }
 ],
 "metadata": {
  "kernelspec": {
   "display_name": "Python 3",
   "language": "python",
   "name": "python3"
  },
  "language_info": {
   "codemirror_mode": {
    "name": "ipython",
    "version": 3
   },
   "file_extension": ".py",
   "mimetype": "text/x-python",
   "name": "python",
   "nbconvert_exporter": "python",
   "pygments_lexer": "ipython3",
   "version": "3.8.8"
  }
 },
 "nbformat": 4,
 "nbformat_minor": 5
}
